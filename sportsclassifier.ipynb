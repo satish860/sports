{
 "cells": [
  {
   "cell_type": "code",
   "execution_count": 36,
   "id": "spread-attachment",
   "metadata": {},
   "outputs": [],
   "source": [
    "from fastai.vision.all import *"
   ]
  },
  {
   "cell_type": "code",
   "execution_count": null,
   "id": "cooked-fifteen",
   "metadata": {},
   "outputs": [],
   "source": [
    "from jmd_imagescraper.core import *\n",
    "from jmd_imagescraper.imagecleaner import *"
   ]
  },
  {
   "cell_type": "code",
   "execution_count": null,
   "id": "civil-cartridge",
   "metadata": {},
   "outputs": [],
   "source": [
    "sports = ['cricket','tennis','football','baseball']\n",
    "path = Path().cwd()/'images'"
   ]
  },
  {
   "cell_type": "code",
   "execution_count": null,
   "id": "developed-deficit",
   "metadata": {},
   "outputs": [],
   "source": [
    "duckduckgo_search(path,'cricket','cricket',max_results=150)"
   ]
  },
  {
   "cell_type": "code",
   "execution_count": null,
   "id": "acknowledged-outline",
   "metadata": {},
   "outputs": [],
   "source": [
    "duckduckgo_search(path,'tennis','tennis',max_results=150)"
   ]
  },
  {
   "cell_type": "code",
   "execution_count": null,
   "id": "desirable-force",
   "metadata": {},
   "outputs": [],
   "source": [
    "duckduckgo_search(path,'football','football',max_results=150)"
   ]
  },
  {
   "cell_type": "code",
   "execution_count": null,
   "id": "other-lloyd",
   "metadata": {},
   "outputs": [],
   "source": [
    "duckduckgo_search(path,'baseball','baseball',max_results=150)"
   ]
  },
  {
   "cell_type": "code",
   "execution_count": 64,
   "id": "bottom-graham",
   "metadata": {},
   "outputs": [],
   "source": [
    "sportsData = DataBlock(blocks=(ImageBlock,CategoryBlock),\n",
    "                      get_items=get_image_files,\n",
    "                      splitter= RandomSplitter(seed=42,valid_pct=0.2),\n",
    "                      get_y=parent_label,\n",
    "                      item_tfms=Resize(224))"
   ]
  },
  {
   "cell_type": "code",
   "execution_count": 65,
   "id": "covered-debate",
   "metadata": {},
   "outputs": [],
   "source": [
    "data = sportsData.new(item_tfms=RandomResizedCrop(224,min_scale=0.5),batch_tfms=aug_transforms())"
   ]
  },
  {
   "cell_type": "code",
   "execution_count": 40,
   "id": "boring-bullet",
   "metadata": {},
   "outputs": [],
   "source": [
    "imagepath = Path('images')"
   ]
  },
  {
   "cell_type": "code",
   "execution_count": 41,
   "id": "brief-helping",
   "metadata": {},
   "outputs": [
    {
     "data": {
      "text/plain": [
       "(#5) [Path('images/.ipynb_checkpoints'),Path('images/cricket'),Path('images/tennis'),Path('images/football'),Path('images/baseball')]"
      ]
     },
     "execution_count": 41,
     "metadata": {},
     "output_type": "execute_result"
    }
   ],
   "source": [
    "path.ls()"
   ]
  },
  {
   "cell_type": "code",
   "execution_count": 45,
   "id": "brave-choir",
   "metadata": {},
   "outputs": [],
   "source": [
    "fns = get_image_files(imagepath)"
   ]
  },
  {
   "cell_type": "code",
   "execution_count": 46,
   "id": "vulnerable-ethics",
   "metadata": {},
   "outputs": [
    {
     "data": {
      "text/plain": [
       "(#600) [Path('images/cricket/001_1086bd39.jpg'),Path('images/cricket/002_ae9f8a3c.jpg'),Path('images/cricket/003_2f16736c.jpg'),Path('images/cricket/004_4560c7e4.jpg'),Path('images/cricket/005_9173a31a.jpg'),Path('images/cricket/006_73a336f8.jpg'),Path('images/cricket/007_d6c7542f.jpg'),Path('images/cricket/008_d5dbad1b.jpg'),Path('images/cricket/009_137b5b80.jpg'),Path('images/cricket/010_499d9e99.jpg')...]"
      ]
     },
     "execution_count": 46,
     "metadata": {},
     "output_type": "execute_result"
    }
   ],
   "source": [
    "fns"
   ]
  },
  {
   "cell_type": "code",
   "execution_count": 50,
   "id": "split-quarter",
   "metadata": {},
   "outputs": [],
   "source": [
    "from fastai.vision.all import *"
   ]
  },
  {
   "cell_type": "code",
   "execution_count": 61,
   "id": "surface-research",
   "metadata": {},
   "outputs": [],
   "source": [
    "imagepath = Path('images')"
   ]
  },
  {
   "cell_type": "code",
   "execution_count": 66,
   "id": "offensive-popularity",
   "metadata": {},
   "outputs": [],
   "source": [
    "dls = data.dataloaders(imagepath)"
   ]
  },
  {
   "cell_type": "code",
   "execution_count": 67,
   "id": "twelve-jumping",
   "metadata": {},
   "outputs": [
    {
     "name": "stderr",
     "output_type": "stream",
     "text": [
      "Downloading: \"https://download.pytorch.org/models/resnet18-5c106cde.pth\" to /home/.cache/torch/hub/checkpoints/resnet18-5c106cde.pth\n"
     ]
    },
    {
     "data": {
      "application/vnd.jupyter.widget-view+json": {
       "model_id": "f8b2c930d59e4f98bc0e57afc23a5664",
       "version_major": 2,
       "version_minor": 0
      },
      "text/plain": [
       "  0%|          | 0.00/44.7M [00:00<?, ?B/s]"
      ]
     },
     "metadata": {},
     "output_type": "display_data"
    },
    {
     "data": {
      "text/html": [
       "<table border=\"1\" class=\"dataframe\">\n",
       "  <thead>\n",
       "    <tr style=\"text-align: left;\">\n",
       "      <th>epoch</th>\n",
       "      <th>train_loss</th>\n",
       "      <th>valid_loss</th>\n",
       "      <th>error_rate</th>\n",
       "      <th>time</th>\n",
       "    </tr>\n",
       "  </thead>\n",
       "  <tbody>\n",
       "    <tr>\n",
       "      <td>0</td>\n",
       "      <td>2.123070</td>\n",
       "      <td>0.922445</td>\n",
       "      <td>0.341667</td>\n",
       "      <td>00:02</td>\n",
       "    </tr>\n",
       "  </tbody>\n",
       "</table>"
      ],
      "text/plain": [
       "<IPython.core.display.HTML object>"
      ]
     },
     "metadata": {},
     "output_type": "display_data"
    },
    {
     "data": {
      "text/html": [
       "<table border=\"1\" class=\"dataframe\">\n",
       "  <thead>\n",
       "    <tr style=\"text-align: left;\">\n",
       "      <th>epoch</th>\n",
       "      <th>train_loss</th>\n",
       "      <th>valid_loss</th>\n",
       "      <th>error_rate</th>\n",
       "      <th>time</th>\n",
       "    </tr>\n",
       "  </thead>\n",
       "  <tbody>\n",
       "    <tr>\n",
       "      <td>0</td>\n",
       "      <td>1.002062</td>\n",
       "      <td>0.649375</td>\n",
       "      <td>0.266667</td>\n",
       "      <td>00:02</td>\n",
       "    </tr>\n",
       "    <tr>\n",
       "      <td>1</td>\n",
       "      <td>0.751675</td>\n",
       "      <td>0.592853</td>\n",
       "      <td>0.216667</td>\n",
       "      <td>00:02</td>\n",
       "    </tr>\n",
       "    <tr>\n",
       "      <td>2</td>\n",
       "      <td>0.581207</td>\n",
       "      <td>0.608972</td>\n",
       "      <td>0.216667</td>\n",
       "      <td>00:02</td>\n",
       "    </tr>\n",
       "    <tr>\n",
       "      <td>3</td>\n",
       "      <td>0.498141</td>\n",
       "      <td>0.661364</td>\n",
       "      <td>0.216667</td>\n",
       "      <td>00:02</td>\n",
       "    </tr>\n",
       "  </tbody>\n",
       "</table>"
      ],
      "text/plain": [
       "<IPython.core.display.HTML object>"
      ]
     },
     "metadata": {},
     "output_type": "display_data"
    }
   ],
   "source": [
    "learn = cnn_learner(dls, resnet18, metrics=error_rate)\n",
    "learn.fine_tune(4)"
   ]
  },
  {
   "cell_type": "code",
   "execution_count": 68,
   "id": "bigger-recommendation",
   "metadata": {},
   "outputs": [
    {
     "data": {
      "text/html": [],
      "text/plain": [
       "<IPython.core.display.HTML object>"
      ]
     },
     "metadata": {},
     "output_type": "display_data"
    },
    {
     "data": {
      "image/png": "[encoded data removed]",
      "text/plain": [
       "<Figure size 432x288 with 1 Axes>"
      ]
     },
     "metadata": {
      "needs_background": "light"
     },
     "output_type": "display_data"
    }
   ],
   "source": [
    "interp = ClassificationInterpretation.from_learner(learn)\n",
    "interp.plot_confusion_matrix()"
   ]
  },
  {
   "cell_type": "code",
   "execution_count": 69,
   "id": "electoral-civilization",
   "metadata": {},
   "outputs": [],
   "source": [
    "dummy_input = torch.randn(1, 3, 224, 224, device='cuda')\n",
    "onnx_path =  \"./model.onnx\"\n",
    "torch.onnx.export(learn.model, dummy_input, onnx_path, verbose=False)"
   ]
  },
  {
   "cell_type": "code",
   "execution_count": null,
   "id": "fleet-server",
   "metadata": {},
   "outputs": [],
   "source": []
  }
 ],
 "metadata": {
  "kernelspec": {
   "display_name": "Python 3",
   "language": "python",
   "name": "python3"
  },
  "language_info": {
   "codemirror_mode": {
    "name": "ipython",
    "version": 3
   },
   "file_extension": ".py",
   "mimetype": "text/x-python",
   "name": "python",
   "nbconvert_exporter": "python",
   "pygments_lexer": "ipython3",
   "version": "3.6.10"
  }
 },
 "nbformat": 4,
 "nbformat_minor": 5
}
